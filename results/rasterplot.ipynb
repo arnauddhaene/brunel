{
 "cells": [
  {
   "cell_type": "code",
   "execution_count": 66,
   "metadata": {
    "collapsed": true
   },
   "outputs": [],
   "source": [
    "import matplotlib.pyplot as plt\n",
    "import numpy as np"
   ]
  },
  {
   "cell_type": "code",
   "execution_count": 67,
   "metadata": {},
   "outputs": [],
   "source": [
    "x, y = np.loadtxt('rasterdataD.gdf', delimiter = '\\t', unpack = True)"
   ]
  },
  {
   "cell_type": "code",
   "execution_count": 73,
   "metadata": {},
   "outputs": [
    {
     "data": {
      "image/png": "[encoded data removed]",
      "text/plain": [
       "<matplotlib.figure.Figure at 0x111d71b38>"
      ]
     },
     "metadata": {},
     "output_type": "display_data"
    },
    {
     "data": {
      "image/png": "[encoded data removed]",
      "text/plain": [
       "<matplotlib.figure.Figure at 0x110523908>"
      ]
     },
     "metadata": {},
     "output_type": "display_data"
    }
   ],
   "source": [
    "fig,ax = plt.subplots(1)\n",
    "ax.plot(x,y, \"|\", alpha=.8)\n",
    "plt.xlim([560, 660])\n",
    "plt.ylabel('Neuron ID')\n",
    "ax.set_xticklabels([])\n",
    "plt.savefig('figD.png', dpi = 400)\n",
    "plt.show()\n",
    "\n",
    "\n",
    "plt.hist(x, 1000, rwidth=1, alpha=.75)\n",
    "plt.xlim([560, 660])\n",
    "plt.ylim([0,6])\n",
    "plt.xlabel('Time in ms')\n",
    "plt.ylabel('Spike amount')\n",
    "plt.grid(True)\n",
    "plt.savefig('histD.png', dpi = 400)\n",
    "plt.show()"
   ]
  },
  {
   "cell_type": "code",
   "execution_count": null,
   "metadata": {
    "collapsed": true
   },
   "outputs": [],
   "source": []
  }
 ],
 "metadata": {
  "kernelspec": {
   "display_name": "Python 3",
   "language": "python",
   "name": "python3"
  },
  "language_info": {
   "codemirror_mode": {
    "name": "ipython",
    "version": 3
   },
   "file_extension": ".py",
   "mimetype": "text/x-python",
   "name": "python",
   "nbconvert_exporter": "python",
   "pygments_lexer": "ipython3",
   "version": "3.6.2"
  }
 },
 "nbformat": 4,
 "nbformat_minor": 2
}
